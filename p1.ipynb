{
 "cells": [
  {
   "cell_type": "markdown",
   "metadata": {},
   "source": [
    "# ** BBC News Article Classification**\n",
    "\n",
    "**Goal:** This project involves classifying BBC news articles into one of five categories (business, sports, politics, technology, or entertainment). You will be expected to clean and preprocess the data, perform exploratory analysis, and build a machine learning or deep learning model for text classification making it a multiclass classification problem.\n",
    "\n",
    "**Dataset:** The BBC News Dataset contains 1491 articles from the BBC news website corresponding to stories in five topical areas from 2004-2005. The articles are categorized into five topics: business, sports, politics, technology, and entertainment."
   ]
  },
  {
   "cell_type": "markdown",
   "metadata": {},
   "source": [
    "### **Step 1: Data Preprocessing**\n",
    "1. Read Data\n",
    "\n",
    "*   Load the dataset using library pandas\n",
    "*   Check null values and duplicates\n",
    "\n",
    "\n",
    "\n",
    "\n",
    "2. Data Cleaning\n",
    "\n",
    "*   Convert all text to lowercase.\n",
    "*   Remove punctuation, special characters, and extra whitespaces.\n",
    "*   Tokenize the text into individual words.\n",
    "*   Remove stop words using NLTK.\n",
    "*   Apply lemmatization.\n",
    "\n",
    "\n",
    "\n",
    "3. Categorical Overview\n",
    "\n",
    "*   Analyze and count the number of articles in each category (business,sports, politics, technology, entertainment)."
   ]
  },
  {
   "cell_type": "code",
   "execution_count": 13,
   "metadata": {},
   "outputs": [
    {
     "name": "stderr",
     "output_type": "stream",
     "text": [
      "[nltk_data] Downloading package stopwords to\n",
      "[nltk_data]     C:\\Users\\hamza\\AppData\\Roaming\\nltk_data...\n",
      "[nltk_data]   Package stopwords is already up-to-date!\n"
     ]
    }
   ],
   "source": [
    "import nltk\n",
    "nltk.download('stopwords') \n",
    "\n",
    "import pandas as pd\n",
    "import re\n",
    "from nltk.corpus import stopwords\n",
    "from nltk.stem import WordNetLemmatizer\n",
    "from nltk.tokenize import word_tokenize\n",
    "\n",
    "# Load data\n",
    "data = pd.read_csv(r\"D:\\TPCS2\\project1\\BBC news\\BBC News.csv\")"
   ]
  },
  {
   "cell_type": "code",
   "execution_count": 2,
   "metadata": {},
   "outputs": [
    {
     "name": "stdout",
     "output_type": "stream",
     "text": [
      "<class 'pandas.core.frame.DataFrame'>\n",
      "RangeIndex: 1490 entries, 0 to 1489\n",
      "Data columns (total 3 columns):\n",
      " #   Column     Non-Null Count  Dtype \n",
      "---  ------     --------------  ----- \n",
      " 0   ArticleId  1490 non-null   int64 \n",
      " 1   Text       1490 non-null   object\n",
      " 2   Category   1490 non-null   object\n",
      "dtypes: int64(1), object(2)\n",
      "memory usage: 35.0+ KB\n"
     ]
    }
   ],
   "source": [
    "data.info()"
   ]
  },
  {
   "cell_type": "code",
   "execution_count": 14,
   "metadata": {},
   "outputs": [
    {
     "name": "stdout",
     "output_type": "stream",
     "text": [
      "Missing Values in Each Column:\n",
      "Series([], dtype: int64)\n",
      "✅ No missing values found!\n",
      "ArticleId    0\n",
      "Text         0\n",
      "Category     0\n",
      "dtype: int64\n"
     ]
    }
   ],
   "source": [
    "# checking null values \n",
    "# adopted from the exam\n",
    "missing_values = data.isnull().sum()\n",
    "print(\"Missing Values in Each Column:\")\n",
    "print(missing_values[missing_values > 0])\n",
    "assert missing_values.sum() == 0\n",
    "print(\"✅ No missing values found!\")\n",
    "print(missing_values)\n"
   ]
  },
  {
   "cell_type": "code",
   "execution_count": 15,
   "metadata": {},
   "outputs": [
    {
     "name": "stdout",
     "output_type": "stream",
     "text": [
      "Total Duplicates: 0\n"
     ]
    },
    {
     "data": {
      "text/html": [
       "<div>\n",
       "<style scoped>\n",
       "    .dataframe tbody tr th:only-of-type {\n",
       "        vertical-align: middle;\n",
       "    }\n",
       "\n",
       "    .dataframe tbody tr th {\n",
       "        vertical-align: top;\n",
       "    }\n",
       "\n",
       "    .dataframe thead th {\n",
       "        text-align: right;\n",
       "    }\n",
       "</style>\n",
       "<table border=\"1\" class=\"dataframe\">\n",
       "  <thead>\n",
       "    <tr style=\"text-align: right;\">\n",
       "      <th></th>\n",
       "      <th>ArticleId</th>\n",
       "      <th>Text</th>\n",
       "      <th>Category</th>\n",
       "    </tr>\n",
       "  </thead>\n",
       "  <tbody>\n",
       "    <tr>\n",
       "      <th>0</th>\n",
       "      <td>1833</td>\n",
       "      <td>worldcom ex-boss launches defence lawyers defe...</td>\n",
       "      <td>business</td>\n",
       "    </tr>\n",
       "    <tr>\n",
       "      <th>1</th>\n",
       "      <td>154</td>\n",
       "      <td>german business confidence slides german busin...</td>\n",
       "      <td>business</td>\n",
       "    </tr>\n",
       "    <tr>\n",
       "      <th>2</th>\n",
       "      <td>1101</td>\n",
       "      <td>bbc poll indicates economic gloom citizens in ...</td>\n",
       "      <td>business</td>\n",
       "    </tr>\n",
       "    <tr>\n",
       "      <th>3</th>\n",
       "      <td>1976</td>\n",
       "      <td>lifestyle  governs mobile choice  faster  bett...</td>\n",
       "      <td>tech</td>\n",
       "    </tr>\n",
       "    <tr>\n",
       "      <th>4</th>\n",
       "      <td>917</td>\n",
       "      <td>enron bosses in $168m payout eighteen former e...</td>\n",
       "      <td>business</td>\n",
       "    </tr>\n",
       "  </tbody>\n",
       "</table>\n",
       "</div>"
      ],
      "text/plain": [
       "   ArticleId                                               Text  Category\n",
       "0       1833  worldcom ex-boss launches defence lawyers defe...  business\n",
       "1        154  german business confidence slides german busin...  business\n",
       "2       1101  bbc poll indicates economic gloom citizens in ...  business\n",
       "3       1976  lifestyle  governs mobile choice  faster  bett...      tech\n",
       "4        917  enron bosses in $168m payout eighteen former e...  business"
      ]
     },
     "execution_count": 15,
     "metadata": {},
     "output_type": "execute_result"
    }
   ],
   "source": [
    "# Check for duplicate rows\n",
    "duplicates = data.duplicated().sum()\n",
    "print(f'Total Duplicates: {duplicates}')\n",
    "\n",
    "# Remove duplicates\n",
    "# data = data.drop_duplicates()\n",
    "data.head()"
   ]
  },
  {
   "cell_type": "code",
   "execution_count": 5,
   "metadata": {},
   "outputs": [
    {
     "data": {
      "text/plain": [
       "Index(['ArticleId', 'Text', 'Category'], dtype='object')"
      ]
     },
     "execution_count": 5,
     "metadata": {},
     "output_type": "execute_result"
    }
   ],
   "source": [
    "data.columns"
   ]
  },
  {
   "cell_type": "code",
   "execution_count": 16,
   "metadata": {},
   "outputs": [],
   "source": [
    "# Clean text function\n",
    "def clean_text(text):\n",
    "    text = text.lower()  # Lowercase\n",
    "    text = re.sub(r'[^a-z\\s]', '', text)  # Remove punctuation and symbols\n",
    "    text = re.sub(r'\\s+', ' ', text)  # Remove extra whitespace\n",
    "    return text\n",
    "\n",
    "# Change the following line to reflect the actual column name\n",
    "data['cleaned_text'] = data['Text'].apply(clean_text)  # Now clean_text is defined before being called\n",
    "\n",
    "# Remove stopwords a0nd lemmatize\n",
    "# \"stopwords\" is words that will not affect the classifying of the data, like: is, that... ,we only kare of the keywords to classify the data.\n",
    "stop_words = set(stopwords.words('english'))\n",
    "lemmatizer = WordNetLemmatizer()\n",
    "\n",
    "def preprocess_text(text):\n",
    "    tokens = text.split()\n",
    "    tokens = [word for word in tokens if word not in stop_words]  # Remove stopwords\n",
    "    tokens = [lemmatizer.lemmatize(word) for word in tokens]  # Lemmatize\n",
    "    return ' '.join(tokens)\n",
    "\n",
    "data['processed_text'] = data['cleaned_text'].apply(preprocess_text)\n"
   ]
  },
  {
   "cell_type": "code",
   "execution_count": 6,
   "metadata": {},
   "outputs": [
    {
     "name": "stderr",
     "output_type": "stream",
     "text": [
      "C:\\Users\\hamza\\AppData\\Local\\Temp\\ipykernel_16352\\222226812.py:9: FutureWarning: \n",
      "\n",
      "Passing `palette` without assigning `hue` is deprecated and will be removed in v0.14.0. Assign the `x` variable to `hue` and set `legend=False` for the same effect.\n",
      "\n",
      "  sns.barplot(x=category_counts.index, y=category_counts.values, palette='Set2')\n"
     ]
    },
    {
     "data": {
      "image/png": "[encoded data removed]",
      "text/plain": [
       "<Figure size 600x400 with 1 Axes>"
      ]
     },
     "metadata": {},
     "output_type": "display_data"
    }
   ],
   "source": [
    "import matplotlib.pyplot as plt\n",
    "import seaborn as sns\n",
    "\n",
    "# Get category counts\n",
    "category_counts = data['Category'].value_counts()\n",
    "\n",
    "# Bar Chart with Different Colors\n",
    "plt.figure(figsize=(6, 4))\n",
    "sns.barplot(x=category_counts.index, y=category_counts.values, palette='Set2')\n",
    "plt.title('Category Distribution (Bar Chart)')\n",
    "plt.xlabel('Category')\n",
    "plt.ylabel('Count')\n",
    "plt.xticks(rotation=45)\n",
    "plt.show()"
   ]
  },
  {
   "cell_type": "code",
   "execution_count": 8,
   "metadata": {},
   "outputs": [
    {
     "data": {
      "image/png": "[encoded data removed]",
      "text/plain": [
       "<Figure size 400x400 with 1 Axes>"
      ]
     },
     "metadata": {},
     "output_type": "display_data"
    }
   ],
   "source": [
    "# Pie Chart with Different Colors\n",
    "plt.figure(figsize=(4, 4))\n",
    "colors = sns.color_palette('Set2', len(category_counts))  # Choosing a color palette\n",
    "plt.pie(category_counts.values, labels=category_counts.index, autopct='%1.1f%%', colors=colors, startangle=90)\n",
    "plt.title('Category Distribution (Pie Chart)')\n",
    "plt.axis('equal')\n",
    "plt.show()\n"
   ]
  },
  {
   "cell_type": "markdown",
   "metadata": {},
   "source": [
    "Average Text Length per Category\n",
    "\n",
    "Analyzing the average length of articles in each category can help uncover patterns related to verbosity. For example some categories might be more extensive and other shorter, no much to say in some articles but other very dense."
   ]
  },
  {
   "cell_type": "code",
   "execution_count": 9,
   "metadata": {},
   "outputs": [
    {
     "data": {
      "image/png": "[encoded data removed]",
      "text/plain": [
       "<Figure size 1000x600 with 1 Axes>"
      ]
     },
     "metadata": {},
     "output_type": "display_data"
    }
   ],
   "source": [
    "# Average Text Length per Category\n",
    "data['Text_Length'] = data['processed_text'].apply(len)\n",
    "\n",
    "avg_text_length = data.groupby('Category')['Text_Length'].mean()\n",
    "\n",
    "plt.figure(figsize=(10, 6))\n",
    "avg_text_length.plot(kind='bar', color = colors)\n",
    "plt.title('Average Text Length by Category', fontsize=16)\n",
    "plt.xlabel('Category', fontsize=12)\n",
    "plt.ylabel('Average Text Length', fontsize=12)\n",
    "plt.show()\n"
   ]
  },
  {
   "cell_type": "code",
   "execution_count": 5,
   "metadata": {},
   "outputs": [
    {
     "name": "stdout",
     "output_type": "stream",
     "text": [
      "Number of categories in Train Data: 5\n",
      "\n",
      "Unique categories in Train Data: ['business' 'tech' 'politics' 'sport' 'entertainment']\n"
     ]
    }
   ],
   "source": [
    "# Check unique categories of the data\n",
    "if 'Category' in data.columns:\n",
    "    num_categories = data['Category'].nunique()\n",
    "\n",
    "    print(f\"Number of categories in Train Data: {num_categories}\")\n",
    "\n",
    "    print(\"\\nUnique categories in Train Data:\", data['Category'].unique())\n",
    "\n",
    "else:\n",
    "    print(f\"Column '{'Category'}' not found in train or test datasets. Check column names.\")"
   ]
  },
  {
   "cell_type": "code",
   "execution_count": 6,
   "metadata": {},
   "outputs": [
    {
     "name": "stdout",
     "output_type": "stream",
     "text": [
      "Category counts in Train Data:\n",
      "Category\n",
      "sport            346\n",
      "business         336\n",
      "politics         274\n",
      "entertainment    273\n",
      "tech             261\n",
      "Name: count, dtype: int64\n"
     ]
    }
   ],
   "source": [
    "# # Get counts of each category in data\n",
    "if 'Category' in data.columns:\n",
    "    category_counts = data['Category'].value_counts()\n",
    "\n",
    "    print(\"Category counts in Train Data:\\n\" +  str(category_counts))\n",
    "\n",
    "else:\n",
    "    print(f\"Column '{'Category'}' not found in train or test datasets. Check column names.\")"
   ]
  },
  {
   "cell_type": "code",
   "execution_count": 17,
   "metadata": {},
   "outputs": [
    {
     "name": "stdout",
     "output_type": "stream",
     "text": [
      "The first few rows of the training dataset:\n",
      "    abandoned  abbas  abc  ability      able  abroad  absa  absence  absolute  \\\n",
      "0        0.0    0.0  0.0      0.0  0.040352     0.0   0.0      0.0       0.0   \n",
      "1        0.0    0.0  0.0      0.0  0.000000     0.0   0.0      0.0       0.0   \n",
      "2        0.0    0.0  0.0      0.0  0.000000     0.0   0.0      0.0       0.0   \n",
      "3        0.0    0.0  0.0      0.0  0.000000     0.0   0.0      0.0       0.0   \n",
      "4        0.0    0.0  0.0      0.0  0.000000     0.0   0.0      0.0       0.0   \n",
      "\n",
      "   absolutely  ...  younger  youngster  youth  yuan  yugansk  yuganskneftegas  \\\n",
      "0    0.061545  ...      0.0        0.0    0.0   0.0      0.0              0.0   \n",
      "1    0.000000  ...      0.0        0.0    0.0   0.0      0.0              0.0   \n",
      "2    0.000000  ...      0.0        0.0    0.0   0.0      0.0              0.0   \n",
      "3    0.000000  ...      0.0        0.0    0.0   0.0      0.0              0.0   \n",
      "4    0.000000  ...      0.0        0.0    0.0   0.0      0.0              0.0   \n",
      "\n",
      "   yukos  zealand  zero  zone  \n",
      "0    0.0      0.0   0.0   0.0  \n",
      "1    0.0      0.0   0.0   0.0  \n",
      "2    0.0      0.0   0.0   0.0  \n",
      "3    0.0      0.0   0.0   0.0  \n",
      "4    0.0      0.0   0.0   0.0  \n",
      "\n",
      "[5 rows x 5000 columns]\n",
      "The first few rows of the test dataset:\n",
      "    abandoned  abbas  abc  ability      able  abroad  absa  absence  absolute  \\\n",
      "0        0.0    0.0  0.0      0.0  0.000000     0.0   0.0      0.0       0.0   \n",
      "1        0.0    0.0  0.0      0.0  0.000000     0.0   0.0      0.0       0.0   \n",
      "2        0.0    0.0  0.0      0.0  0.000000     0.0   0.0      0.0       0.0   \n",
      "3        0.0    0.0  0.0      0.0  0.000000     0.0   0.0      0.0       0.0   \n",
      "4        0.0    0.0  0.0      0.0  0.036455     0.0   0.0      0.0       0.0   \n",
      "\n",
      "   absolutely  ...  younger  youngster  youth  yuan  yugansk  yuganskneftegas  \\\n",
      "0         0.0  ...      0.0        0.0    0.0   0.0      0.0              0.0   \n",
      "1         0.0  ...      0.0        0.0    0.0   0.0      0.0              0.0   \n",
      "2         0.0  ...      0.0        0.0    0.0   0.0      0.0              0.0   \n",
      "3         0.0  ...      0.0        0.0    0.0   0.0      0.0              0.0   \n",
      "4         0.0  ...      0.0        0.0    0.0   0.0      0.0              0.0   \n",
      "\n",
      "   yukos  zealand  zero  zone  \n",
      "0    0.0      0.0   0.0   0.0  \n",
      "1    0.0      0.0   0.0   0.0  \n",
      "2    0.0      0.0   0.0   0.0  \n",
      "3    0.0      0.0   0.0   0.0  \n",
      "4    0.0      0.0   0.0   0.0  \n",
      "\n",
      "[5 rows x 5000 columns]\n"
     ]
    }
   ],
   "source": [
    "import pandas as pd\n",
    "from sklearn.model_selection import train_test_split\n",
    "from sklearn.feature_extraction.text import TfidfVectorizer\n",
    "\n",
    "# Convert text to TF-IDF features and create DataFrames to inspect training and test data\n",
    "\n",
    "tfidf_vectorizer = TfidfVectorizer(\n",
    "    max_features=5000, # Limit vocabulary to 5000 most important words\n",
    "    stop_words='english', # Remove common English words (e.g., \"the\", \"is\", \"and\")\n",
    "    ngram_range=(1, 2) \n",
    ")\n",
    "\n",
    "x = data['processed_text'] \n",
    "y = data['Category']\n",
    "X_train, X_test, y_train, y_test = train_test_split(x, y, test_size = 0.2, random_state = 42)\n",
    "\n",
    "X_train_tfidf = tfidf_vectorizer.fit_transform(X_train)\n",
    "X_test_tfidf = tfidf_vectorizer.transform(X_test)\n",
    "\n",
    "tfidf_train_df = pd.DataFrame(X_train_tfidf.toarray(), columns=tfidf_vectorizer.get_feature_names_out())\n",
    "tfidf_test_df = pd.DataFrame(X_test_tfidf.toarray(), columns=tfidf_vectorizer.get_feature_names_out())\n",
    "\n",
    "# Display the first few rows of the training dataset\n",
    "print(\"The first few rows of the training dataset:\\n\", tfidf_train_df.head())\n",
    "\n",
    "# Display the first few rows of the test dataset\n",
    "print(\"The first few rows of the test dataset:\\n\", tfidf_test_df.head())\n"
   ]
  },
  {
   "cell_type": "code",
   "execution_count": 18,
   "metadata": {},
   "outputs": [],
   "source": [
    "from sklearn.model_selection import train_test_split\n",
    "\n",
    "# splitting the data for the training in different models.\n",
    "data = data.dropna(subset=['Category'])\n",
    "x = tfidf_vectorizer.fit_transform(data['processed_text']).toarray() # Recalculate X\n",
    "y = data['Category']\n",
    "X_train, X_test, y_train, y_test = train_test_split(x, y, test_size = 0.2, random_state = 42)"
   ]
  },
  {
   "cell_type": "markdown",
   "metadata": {},
   "source": [
    "### **Step 4 & Step 5: Model Selection and Evaluation Metrics**\n",
    "\n",
    "(1) using Logistic Regression"
   ]
  },
  {
   "cell_type": "code",
   "execution_count": null,
   "metadata": {},
   "outputs": [
    {
     "name": "stdout",
     "output_type": "stream",
     "text": [
      "Classification Report:\n",
      "               precision    recall  f1-score   support\n",
      "\n",
      "     business       0.99      0.97      0.98        75\n",
      "entertainment       0.96      1.00      0.98        46\n",
      "     politics       0.96      0.95      0.95        56\n",
      "        sport       0.95      1.00      0.98        63\n",
      "         tech       0.98      0.93      0.96        58\n",
      "\n",
      "     accuracy                           0.97       298\n",
      "    macro avg       0.97      0.97      0.97       298\n",
      " weighted avg       0.97      0.97      0.97       298\n",
      "\n",
      "Confusion Matrix:\n"
     ]
    },
    {
     "data": {
      "image/png": "[encoded data removed]",
      "text/plain": [
       "<Figure size 640x480 with 2 Axes>"
      ]
     },
     "metadata": {},
     "output_type": "display_data"
    }
   ],
   "source": [
    "from sklearn.linear_model import LogisticRegression\n",
    "from sklearn.metrics import classification_report\n",
    "from sklearn.metrics import confusion_matrix, ConfusionMatrixDisplay\n",
    "import matplotlib.pyplot as plt\n",
    "\n",
    "# Logistic Regression uses the sigmoid function.\n",
    "# it will accept sparce matrix of X, and it accept the y as String.\n",
    "LG_model = LogisticRegression(max_iter=1000)\n",
    "LG_model.fit(X_train, y_train)\n",
    "y_pred = LG_model.predict(X_test)\n",
    " \n",
    "print(\"Classification Report:\")\n",
    "print(classification_report(y_test, y_pred))\n",
    "\n",
    "# the classification report.\n",
    "print(\"Confusion Matrix:\")\n",
    "cm = confusion_matrix(y_test, y_pred)\n",
    "disp = ConfusionMatrixDisplay(confusion_matrix=cm, display_labels=LG_model.classes_)\n",
    "disp.plot(cmap=plt.cm.Blues)\n",
    "plt.show()\n"
   ]
  },
  {
   "cell_type": "markdown",
   "metadata": {},
   "source": [
    "(2) By using RNN"
   ]
  },
  {
   "cell_type": "code",
   "execution_count": null,
   "metadata": {},
   "outputs": [
    {
     "name": "stdout",
     "output_type": "stream",
     "text": [
      "Epoch 1/10\n"
     ]
    },
    {
     "name": "stderr",
     "output_type": "stream",
     "text": [
      "c:\\Users\\hamza\\anaconda3\\envs\\TPCS2\\lib\\site-packages\\keras\\optimizers\\optimizer_v2\\adam.py:114: UserWarning: The `lr` argument is deprecated, use `learning_rate` instead.\n",
      "  super().__init__(name, **kwargs)\n"
     ]
    },
    {
     "name": "stdout",
     "output_type": "stream",
     "text": [
      "38/38 [==============================] - 10s 155ms/step - loss: 1.4381 - accuracy: 0.3205 - val_loss: 1.0474 - val_accuracy: 0.4866\n",
      "Epoch 2/10\n",
      "38/38 [==============================] - 5s 135ms/step - loss: 0.8183 - accuracy: 0.6099 - val_loss: 0.5779 - val_accuracy: 0.7148\n",
      "Epoch 3/10\n",
      "38/38 [==============================] - 6s 151ms/step - loss: 0.4448 - accuracy: 0.8062 - val_loss: 0.5518 - val_accuracy: 0.7752\n",
      "Epoch 4/10\n",
      "38/38 [==============================] - 7s 176ms/step - loss: 0.2694 - accuracy: 0.9010 - val_loss: 0.5432 - val_accuracy: 0.8658\n",
      "Epoch 5/10\n",
      "38/38 [==============================] - 7s 176ms/step - loss: 0.1384 - accuracy: 0.9631 - val_loss: 0.3721 - val_accuracy: 0.8792\n",
      "Epoch 6/10\n",
      "38/38 [==============================] - 7s 175ms/step - loss: 0.0702 - accuracy: 0.9857 - val_loss: 0.3954 - val_accuracy: 0.8859\n",
      "Epoch 7/10\n",
      "38/38 [==============================] - 7s 177ms/step - loss: 0.0313 - accuracy: 0.9950 - val_loss: 0.3620 - val_accuracy: 0.8993\n",
      "Epoch 8/10\n",
      "38/38 [==============================] - 7s 176ms/step - loss: 0.0087 - accuracy: 1.0000 - val_loss: 0.4042 - val_accuracy: 0.8993\n",
      "Epoch 9/10\n",
      "38/38 [==============================] - 7s 175ms/step - loss: 0.0062 - accuracy: 1.0000 - val_loss: 0.4211 - val_accuracy: 0.9027\n",
      "Epoch 10/10\n",
      "38/38 [==============================] - 7s 198ms/step - loss: 0.0055 - accuracy: 1.0000 - val_loss: 0.4282 - val_accuracy: 0.9060\n",
      "10/10 - 0s - loss: 0.4282 - accuracy: 0.9060 - 486ms/epoch - 49ms/step\n",
      "\n",
      "Test accuracy: 90.60%\n"
     ]
    }
   ],
   "source": [
    "import tensorflow as tf\n",
    "from sklearn.preprocessing import LabelEncoder\n",
    "from tensorflow.keras.models import Sequential\n",
    "from tensorflow.keras.layers import Embedding, LSTM, Dense, Dropout\n",
    "from tensorflow.keras.preprocessing.text import Tokenizer\n",
    "from tensorflow.keras.preprocessing.sequence import pad_sequences\n",
    "\n",
    "label_encoder = LabelEncoder()\n",
    "\n",
    "max_words = 5000  # Vocabulary size\n",
    "max_len = 100     # Maximum sequence length for padding\n",
    "\n",
    "# it will convert words into integers, Learn all the unique words in this column of text,it will only keep the 5,000 most\n",
    "#  common words in your text.\n",
    "\n",
    "tokenizer = Tokenizer(num_words = max_words, oov_token = \"<OOV>\")\n",
    "tokenizer.fit_on_texts(data['processed_text'])\n",
    "\n",
    "# Convert texts to sequences: \n",
    "# \"maxlen = max_len\" Make sure every sequence have length of 100 tokens long.\n",
    "\n",
    "sequences = tokenizer.texts_to_sequences(data['processed_text'])\n",
    "X = pad_sequences(sequences, maxlen = max_len)\n",
    "y = data['Category']\n",
    "X_train, X_test, y_train, y_test = train_test_split(X, y, test_size=0.2, random_state=42)\n",
    "\n",
    "# change the string to the numbers, because the model don't accept strings.\n",
    "y_train = label_encoder.fit_transform(y_train)\n",
    "y_test = label_encoder.transform(y_test)\n",
    "\n",
    "# Build the RNN model.\n",
    "rnn_model = Sequential([\n",
    "    Embedding(input_dim=max_words, output_dim=128, input_length=max_len),\n",
    "    LSTM(128, activation='tanh', return_sequences=True),\n",
    "    Dropout(0.2),\n",
    "\n",
    "    LSTM(128, activation='tanh'),\n",
    "    Dropout(0.1),\n",
    "\n",
    "    Dense(32, activation='tanh'),\n",
    "    Dropout(0.2),\n",
    "\n",
    "    Dense(5, activation='softmax'),\n",
    "])\n",
    "\n",
    "# customize the learning rate of adam optimizer.\n",
    "opt = tf.keras.optimizers.Adam(lr=0.001, decay=1e-6)\n",
    "\n",
    "# by using sparse_categorical_crossentropy, we can directly use the integer labels of y without converting them to one-hot format.\n",
    "rnn_model.compile(\n",
    "    optimizer = opt,\n",
    "    loss='sparse_categorical_crossentropy',\n",
    "    metrics=['accuracy']\n",
    ")\n",
    "\n",
    "# the model updates its weights every 32 samples of training data rather than updating every epoch.\n",
    "# running for 10 epochs.\n",
    "rnn_model.fit(X_train, y_train, validation_data=(X_test, y_test), epochs=10, batch_size=32)\n",
    "\n",
    "# calculating the accuracy of the model.\n",
    "test_loss, test_acc = rnn_model.evaluate(X_test, y_test, verbose=2)\n",
    "print(f\"\\nTest accuracy: {test_acc * 100:.2f}%\")"
   ]
  },
  {
   "cell_type": "markdown",
   "metadata": {},
   "source": [
    "(3) By using CNN"
   ]
  },
  {
   "cell_type": "code",
   "execution_count": null,
   "metadata": {},
   "outputs": [
    {
     "name": "stdout",
     "output_type": "stream",
     "text": [
      "Epoch 1/8\n"
     ]
    },
    {
     "name": "stderr",
     "output_type": "stream",
     "text": [
      "c:\\Users\\hamza\\anaconda3\\envs\\TPCS2\\lib\\site-packages\\keras\\optimizers\\optimizer_v2\\adam.py:114: UserWarning: The `lr` argument is deprecated, use `learning_rate` instead.\n",
      "  super().__init__(name, **kwargs)\n"
     ]
    },
    {
     "name": "stdout",
     "output_type": "stream",
     "text": [
      "38/38 [==============================] - 3s 53ms/step - loss: 1.5779 - accuracy: 0.3716 - val_loss: 1.5215 - val_accuracy: 0.3960\n",
      "Epoch 2/8\n",
      "38/38 [==============================] - 2s 47ms/step - loss: 1.2410 - accuracy: 0.7257 - val_loss: 0.9297 - val_accuracy: 0.7483\n",
      "Epoch 3/8\n",
      "38/38 [==============================] - 2s 48ms/step - loss: 0.4720 - accuracy: 0.9119 - val_loss: 0.3525 - val_accuracy: 0.9161\n",
      "Epoch 4/8\n",
      "38/38 [==============================] - 2s 47ms/step - loss: 0.0990 - accuracy: 0.9891 - val_loss: 0.2139 - val_accuracy: 0.9329\n",
      "Epoch 5/8\n",
      "38/38 [==============================] - 2s 48ms/step - loss: 0.0249 - accuracy: 1.0000 - val_loss: 0.1836 - val_accuracy: 0.9463\n",
      "Epoch 6/8\n",
      "38/38 [==============================] - 2s 48ms/step - loss: 0.0100 - accuracy: 1.0000 - val_loss: 0.1747 - val_accuracy: 0.9430\n",
      "Epoch 7/8\n",
      "38/38 [==============================] - 2s 48ms/step - loss: 0.0060 - accuracy: 1.0000 - val_loss: 0.1665 - val_accuracy: 0.9463\n",
      "Epoch 8/8\n",
      "38/38 [==============================] - 1s 21ms/step - loss: 0.0041 - accuracy: 1.0000 - val_loss: 0.1639 - val_accuracy: 0.9463\n",
      "10/10 - 0s - loss: 0.1639 - accuracy: 0.9463 - 53ms/epoch - 5ms/step\n",
      "\n",
      "Test accuracy: 94.63%\n"
     ]
    }
   ],
   "source": [
    "import tensorflow as tf\n",
    "from sklearn.preprocessing import LabelEncoder\n",
    "from tensorflow.keras.models import Sequential\n",
    "from tensorflow.keras.layers import Embedding, Conv1D, Dense, Dropout, GlobalMaxPooling1D\n",
    "from tensorflow.keras.preprocessing.text import Tokenizer\n",
    "from tensorflow.keras.preprocessing.sequence import pad_sequences\n",
    "\n",
    "label_encoder = LabelEncoder()\n",
    "\n",
    "max_words = 5000\n",
    "max_len = 100\n",
    "\n",
    "# it will convert words into integers, Learn all the unique words in this column of text,it will only keep the 5,000 most\n",
    "#  common words in your text.\n",
    "tokenizer = Tokenizer(num_words = max_words, oov_token = \"<OOV>\")\n",
    "tokenizer.fit_on_texts(data['processed_text'])\n",
    "\n",
    "sequences = tokenizer.texts_to_sequences(data['processed_text'])\n",
    "X = pad_sequences(sequences, maxlen = max_len)\n",
    "y = data['Category']\n",
    "X_train, X_test, y_train, y_test = train_test_split(X, y, test_size=0.2, random_state=42)\n",
    "\n",
    "# change the string to the numbers, because the model don't accept strings.\n",
    "y_train = label_encoder.fit_transform(y_train)\n",
    "y_test = label_encoder.transform(y_test)\n",
    "\n",
    "# Build the CNN model.\n",
    "cnn_model = Sequential([\n",
    "    Embedding(input_dim=max_words, output_dim=128, input_length=max_len),\n",
    "    Conv1D(128, 5, activation='relu'),\n",
    "    GlobalMaxPooling1D(),\n",
    "    Dense(64, activation='relu'),\n",
    "    Dense(5, activation='softmax')  \n",
    "]) \n",
    "\n",
    "# customize the learning rate of adam optimizer.\n",
    "opt = tf.keras.optimizers.Adam(lr=0.001, decay=1e-6)\n",
    "\n",
    "# by using sparse_categorical_crossentropy, we can directly use the integer labels of y without converting them to one-hot format.\n",
    "cnn_model.compile(optimizer= opt,\n",
    "              loss='sparse_categorical_crossentropy',\n",
    "              metrics=['accuracy'])\n",
    "\n",
    "# running for 8 epochs.\n",
    "cnn_model.fit(X_train, y_train, validation_data=(X_test, y_test), epochs=8, batch_size=32)\n",
    "\n",
    "# calculating the accuracy of the model.\n",
    "test_loss, test_acc = cnn_model.evaluate(X_test, y_test, verbose=2)\n",
    "print(f\"\\nTest accuracy: {test_acc * 100:.2f}%\")"
   ]
  },
  {
   "cell_type": "markdown",
   "metadata": {},
   "source": [
    "(4) By using XGBoost"
   ]
  },
  {
   "cell_type": "code",
   "execution_count": 19,
   "metadata": {},
   "outputs": [
    {
     "name": "stdout",
     "output_type": "stream",
     "text": [
      "Classification Report:\n",
      "              precision    recall  f1-score   support\n",
      "\n",
      "           0       0.92      0.96      0.94        75\n",
      "           1       0.98      0.98      0.98        46\n",
      "           2       0.92      0.96      0.94        56\n",
      "           3       1.00      0.98      0.99        63\n",
      "           4       0.98      0.90      0.94        58\n",
      "\n",
      "    accuracy                           0.96       298\n",
      "   macro avg       0.96      0.96      0.96       298\n",
      "weighted avg       0.96      0.96      0.96       298\n",
      "\n"
     ]
    }
   ],
   "source": [
    "from xgboost import XGBClassifier\n",
    "from sklearn.preprocessing import LabelEncoder\n",
    "from sklearn.metrics import classification_report\n",
    "\n",
    "# XGBoost accept the sparce matrix of X, but it cannet accept the string values in y, that why we encode them.\n",
    "label_encoder = LabelEncoder()\n",
    "y_train = label_encoder.fit_transform(y_train)\n",
    "y_test = label_encoder.transform(y_test)\n",
    "\n",
    "# XGBoost model, classification model.\n",
    "xgbc_model = XGBClassifier(max_depth=3, learning_rate=0.1, n_estimators=500, objective='multi:softmax', booster='gbtree')\n",
    "xgbc_model.fit(X_train,y_train)\n",
    "\n",
    "# the classification report:\n",
    "y_pred = xgbc_model.predict(X_test)\n",
    "print(\"Classification Report:\")\n",
    "print(classification_report(y_test, y_pred))"
   ]
  },
  {
   "cell_type": "markdown",
   "metadata": {},
   "source": [
    "(5) By using RandomForestClassifier"
   ]
  },
  {
   "cell_type": "code",
   "execution_count": 11,
   "metadata": {},
   "outputs": [
    {
     "name": "stdout",
     "output_type": "stream",
     "text": [
      "Classification Report:\n",
      "              precision    recall  f1-score   support\n",
      "\n",
      "           0       0.95      0.99      0.97        75\n",
      "           1       0.98      0.98      0.98        46\n",
      "           2       0.96      0.96      0.96        56\n",
      "           3       0.98      1.00      0.99        63\n",
      "           4       1.00      0.93      0.96        58\n",
      "\n",
      "    accuracy                           0.97       298\n",
      "   macro avg       0.98      0.97      0.97       298\n",
      "weighted avg       0.97      0.97      0.97       298\n",
      "\n"
     ]
    }
   ],
   "source": [
    "from sklearn.ensemble import RandomForestClassifier\n",
    "from sklearn.metrics import classification_report\n",
    "\n",
    "# XGBoost accept the sparce matrix of X, and it accept the string values in y.\n",
    "rf_model = RandomForestClassifier(n_estimators=100, random_state=42)\n",
    "rf_model.fit(X_train, y_train)\n",
    "\n",
    "y_pred = rf_model.predict(X_test)\n",
    "# the classification report:\n",
    "print(\"Classification Report:\")\n",
    "print(classification_report(y_test, y_pred))"
   ]
  },
  {
   "cell_type": "markdown",
   "metadata": {},
   "source": [
    "### **An example of the code**\n"
   ]
  },
  {
   "cell_type": "markdown",
   "metadata": {},
   "source": [
    "**(1) example for the Logistic Regression**\n",
    "\n",
    "using tfidf_vectorizer"
   ]
  },
  {
   "cell_type": "code",
   "execution_count": 19,
   "metadata": {},
   "outputs": [
    {
     "name": "stdout",
     "output_type": "stream",
     "text": [
      "The category of the text: sport\n"
     ]
    }
   ],
   "source": [
    "# this an example of BBC news article that I tried it.\n",
    "text = \"As a football-obsessed child with an allergy to horses, Sean Bowen did not seem like obvious jockey material. That is despite Bowen's parents, Peter and Karen, having trained racehorses for many years. But at the age of 27, Bowen rode his 1,000th winner in February, and now he is searching for Grand National success. Bowen rides 20-1 shot Three Card Brag for Irish trainer Gordon Elliott at Aintree on Saturday.Ive always grown up loving the Grand National and Dad loves the Grand National. Its something that he always said that hopefully one day he could win, Bowen says. Id love to win a Grand National for my family. If I did that, I think Id have to retire because there's not much else that can top that.\"\n",
    "text_first = clean_text(text)\n",
    "\n",
    "text_seconed = preprocess_text(text_first)\n",
    "text_third = tfidf_vectorizer.transform([text_seconed]).toarray()\n",
    "LG =  LG_model.predict(text_third)\n",
    "print(\"The category of the text:\", LG[0])"
   ]
  },
  {
   "cell_type": "markdown",
   "metadata": {},
   "source": [
    "**(2) example for RNN**\n",
    "\n",
    "using sequences"
   ]
  },
  {
   "cell_type": "code",
   "execution_count": null,
   "metadata": {},
   "outputs": [
    {
     "name": "stdout",
     "output_type": "stream",
     "text": [
      "1/1 [==============================] - 2s 2s/step\n",
      "The category of the text: 3\n"
     ]
    }
   ],
   "source": [
    "text = \"As a football-obsessed child with an allergy to horses, Sean Bowen did not seem like obvious jockey material. That is despite Bowen's parents, Peter and Karen, having trained racehorses for many years. But at the age of 27, Bowen rode his 1,000th winner in February, and now he is searching for Grand National success. Bowen rides 20-1 shot Three Card Brag for Irish trainer Gordon Elliott at Aintree on Saturday.Ive always grown up loving the Grand National and Dad loves the Grand National. Its something that he always said that hopefully one day he could win, Bowen says. Id love to win a Grand National for my family. If I did that, I think Id have to retire because there's not much else that can top that.\"\n",
    "text_first = clean_text(text)\n",
    "text_seconed = preprocess_text(text_first)\n",
    "text_third =  pad_sequences(tokenizer.texts_to_sequences([text_seconed]), maxlen = max_len)\n",
    "\n",
    "RNN =  rnn_model.predict(text_third)\n",
    "\n",
    "predicted_label = label_encoder.inverse_transform([RNN.argmax()])[0]\n",
    "print(f\"The category of the text: {predicted_label}\")"
   ]
  },
  {
   "cell_type": "markdown",
   "metadata": {},
   "source": [
    "**(3) example of CNN**\n",
    "\n",
    "using sequance"
   ]
  },
  {
   "cell_type": "code",
   "execution_count": null,
   "metadata": {},
   "outputs": [
    {
     "name": "stdout",
     "output_type": "stream",
     "text": [
      "1/1 [==============================] - 0s 137ms/step\n",
      "The category of the text: 3\n"
     ]
    }
   ],
   "source": [
    "text = \"As a football-obsessed child with an allergy to horses, Sean Bowen did not seem like obvious jockey material. That is despite Bowen's parents, Peter and Karen, having trained racehorses for many years. But at the age of 27, Bowen rode his 1,000th winner in February, and now he is searching for Grand National success. Bowen rides 20-1 shot Three Card Brag for Irish trainer Gordon Elliott at Aintree on Saturday.Ive always grown up loving the Grand National and Dad loves the Grand National. Its something that he always said that hopefully one day he could win, Bowen says. Id love to win a Grand National for my family. If I did that, I think Id have to retire because there's not much else that can top that.\"\n",
    "text_first = clean_text(text)\n",
    "text_seconed = preprocess_text(text_first)\n",
    "text_third =  pad_sequences(tokenizer.texts_to_sequences([text_seconed]), maxlen = max_len)\n",
    "\n",
    "CNN =  cnn_model.predict(text_third)\n",
    "\n",
    "predicted_label = label_encoder.inverse_transform([CNN.argmax()])[0]\n",
    "print(f\"The category of the text: {predicted_label}\")"
   ]
  },
  {
   "cell_type": "markdown",
   "metadata": {},
   "source": [
    "**(4) example of XGBoost**\n",
    "\n",
    "using tfidf_vectorizer"
   ]
  },
  {
   "cell_type": "code",
   "execution_count": 10,
   "metadata": {},
   "outputs": [
    {
     "name": "stdout",
     "output_type": "stream",
     "text": [
      "The category of the text: 3\n"
     ]
    }
   ],
   "source": [
    "text = \"As a football-obsessed child with an allergy to horses, Sean Bowen did not seem like obvious jockey material. That is despite Bowen's parents, Peter and Karen, having trained racehorses for many years. But at the age of 27, Bowen rode his 1,000th winner in February, and now he is searching for Grand National success. Bowen rides 20-1 shot Three Card Brag for Irish trainer Gordon Elliott at Aintree on Saturday.Ive always grown up loving the Grand National and Dad loves the Grand National. Its something that he always said that hopefully one day he could win, Bowen says. Id love to win a Grand National for my family. If I did that, I think Id have to retire because there's not much else that can top that.\"\n",
    "text_first = clean_text(text)\n",
    "\n",
    "text_seconed = preprocess_text(text_first)\n",
    "text_third = tfidf_vectorizer.transform([text_seconed]).toarray()\n",
    "XGB =  xgbc_model.predict(text_third)\n",
    "print(\"The category of the text:\", XGB[0])"
   ]
  },
  {
   "cell_type": "markdown",
   "metadata": {},
   "source": [
    "**(5) example of RandomForestClassifier**\n",
    "\n",
    "using tfidf_vectorizer"
   ]
  },
  {
   "cell_type": "code",
   "execution_count": 13,
   "metadata": {},
   "outputs": [
    {
     "name": "stdout",
     "output_type": "stream",
     "text": [
      "The category of the text: 3\n"
     ]
    }
   ],
   "source": [
    "text = \"As a football-obsessed child with an allergy to horses, Sean Bowen did not seem like obvious jockey material. That is despite Bowen's parents, Peter and Karen, having trained racehorses for many years. But at the age of 27, Bowen rode his 1,000th winner in February, and now he is searching for Grand National success. Bowen rides 20-1 shot Three Card Brag for Irish trainer Gordon Elliott at Aintree on Saturday.Ive always grown up loving the Grand National and Dad loves the Grand National. Its something that he always said that hopefully one day he could win, Bowen says. Id love to win a Grand National for my family. If I did that, I think Id have to retire because there's not much else that can top that.\"\n",
    "text_first = clean_text(text)\n",
    "\n",
    "text_seconed = preprocess_text(text_first)\n",
    "text_third = tfidf_vectorizer.transform([text_seconed]).toarray()\n",
    "RF =  rf_model.predict(text_third)\n",
    "print(\"The category of the text:\", RF[0])"
   ]
  }
 ],
 "metadata": {
  "kernelspec": {
   "display_name": "TPCS2",
   "language": "python",
   "name": "python3"
  },
  "language_info": {
   "codemirror_mode": {
    "name": "ipython",
    "version": 3
   },
   "file_extension": ".py",
   "mimetype": "text/x-python",
   "name": "python",
   "nbconvert_exporter": "python",
   "pygments_lexer": "ipython3",
   "version": "3.10.8"
  }
 },
 "nbformat": 4,
 "nbformat_minor": 2
}
